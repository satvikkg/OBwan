{
 "cells": [
  {
   "cell_type": "code",
   "execution_count": 1,
   "id": "eb55c78c",
   "metadata": {},
   "outputs": [],
   "source": [
    "import rdkit\n",
    "import pandas as pd\n",
    "from rdkit import Chem\n",
    "from rdkit.Chem import PandasTools as pt"
   ]
  },
  {
   "cell_type": "code",
   "execution_count": 2,
   "id": "318067f0",
   "metadata": {},
   "outputs": [
    {
     "name": "stdout",
     "output_type": "stream",
     "text": [
      "Index(['activity_comment', 'activity_id', 'activity_properties',\n",
      "       'assay_chembl_id', 'assay_description', 'assay_type',\n",
      "       'assay_variant_accession', 'assay_variant_mutation', 'bao_endpoint',\n",
      "       'bao_format', 'bao_label', 'canonical_smiles', 'data_validity_comment',\n",
      "       'data_validity_description', 'document_chembl_id', 'document_journal',\n",
      "       'document_year', 'ligand_efficiency', 'molecule_chembl_id',\n",
      "       'molecule_pref_name', 'parent_molecule_chembl_id', 'pchembl_value',\n",
      "       'potential_duplicate', 'qudt_units', 'record_id', 'relation', 'src_id',\n",
      "       'standard_flag', 'standard_relation', 'standard_text_value',\n",
      "       'standard_type', 'standard_units', 'standard_upper_value',\n",
      "       'standard_value', 'target_chembl_id', 'target_organism',\n",
      "       'target_pref_name', 'target_tax_id', 'text_value', 'toid', 'type',\n",
      "       'units', 'uo_units', 'upper_value', 'value'],\n",
      "      dtype='object')\n"
     ]
    }
   ],
   "source": [
    "df = pd.read_csv('oral bioavailibility.csv')\n",
    "colmns = df.columns\n",
    "print(colmns)"
   ]
  },
  {
   "cell_type": "code",
   "execution_count": 7,
   "id": "c03ffeb9",
   "metadata": {},
   "outputs": [],
   "source": [
    "sdf = pt.AddMoleculeColumnToFrame(df, smilesCol='canonical_smiles',molCol='ROMol', includeFingerprints=False)"
   ]
  },
  {
   "cell_type": "code",
   "execution_count": 10,
   "id": "8907aed9",
   "metadata": {},
   "outputs": [
    {
     "ename": "AttributeError",
     "evalue": "'NoneType' object has no attribute 'columns'",
     "output_type": "error",
     "traceback": [
      "\u001b[1;31m---------------------------------------------------------------------------\u001b[0m",
      "\u001b[1;31mAttributeError\u001b[0m                            Traceback (most recent call last)",
      "\u001b[1;32m~\\AppData\\Local\\Temp\\ipykernel_3660\\1802591891.py\u001b[0m in \u001b[0;36m<module>\u001b[1;34m\u001b[0m\n\u001b[1;32m----> 1\u001b[1;33m \u001b[0mpt\u001b[0m\u001b[1;33m.\u001b[0m\u001b[0mWriteSDF\u001b[0m\u001b[1;33m(\u001b[0m\u001b[0msdf\u001b[0m\u001b[1;33m,\u001b[0m \u001b[1;34m'oral-bioavailability-chembl.sdf'\u001b[0m\u001b[1;33m,\u001b[0m \u001b[0mmolColName\u001b[0m\u001b[1;33m=\u001b[0m\u001b[1;34m'ROMol'\u001b[0m\u001b[1;33m,\u001b[0m \u001b[0mproperties\u001b[0m\u001b[1;33m=\u001b[0m\u001b[0mlist\u001b[0m\u001b[1;33m(\u001b[0m\u001b[0msdf\u001b[0m\u001b[1;33m.\u001b[0m\u001b[0mcolumns\u001b[0m\u001b[1;33m)\u001b[0m\u001b[1;33m)\u001b[0m\u001b[1;33m\u001b[0m\u001b[1;33m\u001b[0m\u001b[0m\n\u001b[0m",
      "\u001b[1;31mAttributeError\u001b[0m: 'NoneType' object has no attribute 'columns'"
     ]
    }
   ],
   "source": [
    "pt.WriteSDF(sdf, 'oral-bioavailability-chembl.sdf', molColName='ROMol', properties=list(sdf.columns))"
   ]
  },
  {
   "cell_type": "code",
   "execution_count": null,
   "id": "74503c42",
   "metadata": {},
   "outputs": [],
   "source": []
  }
 ],
 "metadata": {
  "kernelspec": {
   "display_name": "Python 3 (ipykernel)",
   "language": "python",
   "name": "python3"
  },
  "language_info": {
   "codemirror_mode": {
    "name": "ipython",
    "version": 3
   },
   "file_extension": ".py",
   "mimetype": "text/x-python",
   "name": "python",
   "nbconvert_exporter": "python",
   "pygments_lexer": "ipython3",
   "version": "3.7.13"
  }
 },
 "nbformat": 4,
 "nbformat_minor": 5
}
