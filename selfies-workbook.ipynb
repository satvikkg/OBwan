{
 "cells": [
  {
   "cell_type": "code",
   "execution_count": 1,
   "id": "b0f3b6c5",
   "metadata": {},
   "outputs": [],
   "source": [
    "import selfies as sf"
   ]
  },
  {
   "cell_type": "code",
   "execution_count": 4,
   "id": "3e8c6d57",
   "metadata": {},
   "outputs": [
    {
     "data": {
      "text/plain": [
       "'[O][=C][Branch1][C][C][O][C][=C][C][=C][C][=C][Ring1][=Branch1][C][=Branch1][C][=O][O]'"
      ]
     },
     "execution_count": 4,
     "metadata": {},
     "output_type": "execute_result"
    }
   ],
   "source": [
    "# Encoding SMILES of Aspirin as SELFIES.\n",
    "aspirin = 'O=C(C)Oc1ccccc1C(=O)O'\n",
    "asp_selfies = sf.encoder(aspirin)\n",
    "asp_selfies"
   ]
  },
  {
   "cell_type": "code",
   "execution_count": 5,
   "id": "5cf84794",
   "metadata": {},
   "outputs": [
    {
     "data": {
      "text/plain": [
       "'O=C(C)OC1=CC=CC=C1C(=O)O'"
      ]
     },
     "execution_count": 5,
     "metadata": {},
     "output_type": "execute_result"
    }
   ],
   "source": [
    "# Encoding SELFIES of Aspirin as SMILES.\n",
    "asp_smiles = sf.decoder(asp_selfies)\n",
    "asp_smiles"
   ]
  },
  {
   "cell_type": "code",
   "execution_count": 30,
   "id": "af94a113",
   "metadata": {},
   "outputs": [
    {
     "data": {
      "text/plain": [
       "['[C][C][=Branch1][C][=O][N][C][=C][C][=C][Branch1][Branch1][C][=C][Ring1][=Branch1][O]',\n",
       " '[O][=C][Branch1][C][C][O][C][=C][C][=C][C][=C][Ring1][=Branch1][C][=Branch1][C][=O][O]',\n",
       " '[C][C][N][Branch1][#C][C][C][N][Ring1][=Branch1][C][C][O][C][C][=Branch1][C][=O][O][C@H1][Branch1][=Branch2][C][=C][C][=C][C][=C][Ring1][=Branch1][C][=C][C][=C][Branch1][Branch1][C][=C][Ring1][=Branch1][Cl]']"
      ]
     },
     "execution_count": 30,
     "metadata": {},
     "output_type": "execute_result"
    }
   ],
   "source": [
    "# One-hot encoding SELFIES.\n",
    "dataset = ['CC(=O)NC1=CC=C(C=C1)O', 'O=C(C)Oc1ccccc1C(=O)O', 'C1CN(CCN1CCOCC(=O)O)[C@H](C2=CC=CC=C2)C3=CC=C(C=C3)Cl']\n",
    "selfies_dataset = list(map(sf.encoder, dataset))\n",
    "selfies_dataset"
   ]
  },
  {
   "cell_type": "code",
   "execution_count": 31,
   "id": "6f8ae6af",
   "metadata": {},
   "outputs": [
    {
     "data": {
      "text/plain": [
       "41"
      ]
     },
     "execution_count": 31,
     "metadata": {},
     "output_type": "execute_result"
    }
   ],
   "source": [
    "# Getting maximum length of SELFIES for One-hot encoding.\n",
    "max_len = max(sf.len_selfies(s) for s in selfies_dataset)\n",
    "max_len"
   ]
  },
  {
   "cell_type": "code",
   "execution_count": 32,
   "id": "94ccd097",
   "metadata": {},
   "outputs": [
    {
     "data": {
      "text/plain": [
       "['[#C]',\n",
       " '[=Branch1]',\n",
       " '[=Branch2]',\n",
       " '[=C]',\n",
       " '[=O]',\n",
       " '[Branch1]',\n",
       " '[C@H1]',\n",
       " '[C]',\n",
       " '[Cl]',\n",
       " '[N]',\n",
       " '[O]',\n",
       " '[Ring1]',\n",
       " '[nop]']"
      ]
     },
     "execution_count": 32,
     "metadata": {},
     "output_type": "execute_result"
    }
   ],
   "source": [
    "alphabet = sf.get_alphabet_from_selfies(selfies_dataset)\n",
    "alphabet.add(\"[nop]\")\n",
    "alphabet = list(sorted(alphabet))\n",
    "alphabet"
   ]
  },
  {
   "cell_type": "code",
   "execution_count": 33,
   "id": "f1fe785a",
   "metadata": {},
   "outputs": [],
   "source": [
    "# Creating a mapping between the SELFIES symbols and indices.\n",
    "# vocbulary selfies to indices\n",
    "vocab_stoi = {symbol: idx for idx, symbol in enumerate(alphabet)}\n",
    "vocab_itos = {idx: symbol for symbol, idx in vocab_stoi.items()}"
   ]
  },
  {
   "cell_type": "code",
   "execution_count": 34,
   "id": "d9815a5f",
   "metadata": {},
   "outputs": [
    {
     "name": "stdout",
     "output_type": "stream",
     "text": [
      "{'[#C]': 0, '[=Branch1]': 1, '[=Branch2]': 2, '[=C]': 3, '[=O]': 4, '[Branch1]': 5, '[C@H1]': 6, '[C]': 7, '[Cl]': 8, '[N]': 9, '[O]': 10, '[Ring1]': 11, '[nop]': 12}\n",
      "{0: '[#C]', 1: '[=Branch1]', 2: '[=Branch2]', 3: '[=C]', 4: '[=O]', 5: '[Branch1]', 6: '[C@H1]', 7: '[C]', 8: '[Cl]', 9: '[N]', 10: '[O]', 11: '[Ring1]', 12: '[nop]'}\n"
     ]
    }
   ],
   "source": [
    "print(vocab_stoi)\n",
    "print(vocab_itos)"
   ]
  },
  {
   "cell_type": "code",
   "execution_count": 23,
   "id": "87641c56",
   "metadata": {},
   "outputs": [
    {
     "name": "stdout",
     "output_type": "stream",
     "text": [
      "[7, 7, 1, 7, 4, 9, 7, 3, 7, 3, 5, 5, 7, 3, 11, 1, 10, 12, 12, 12, 12, 12, 12, 12, 12, 12, 12, 12, 12, 12, 12, 12, 12, 12, 12, 12, 12, 12, 12, 12, 12]\n",
      "[[0, 0, 0, 0, 0, 0, 0, 1, 0, 0, 0, 0, 0], [0, 0, 0, 0, 0, 0, 0, 1, 0, 0, 0, 0, 0], [0, 1, 0, 0, 0, 0, 0, 0, 0, 0, 0, 0, 0], [0, 0, 0, 0, 0, 0, 0, 1, 0, 0, 0, 0, 0], [0, 0, 0, 0, 1, 0, 0, 0, 0, 0, 0, 0, 0], [0, 0, 0, 0, 0, 0, 0, 0, 0, 1, 0, 0, 0], [0, 0, 0, 0, 0, 0, 0, 1, 0, 0, 0, 0, 0], [0, 0, 0, 1, 0, 0, 0, 0, 0, 0, 0, 0, 0], [0, 0, 0, 0, 0, 0, 0, 1, 0, 0, 0, 0, 0], [0, 0, 0, 1, 0, 0, 0, 0, 0, 0, 0, 0, 0], [0, 0, 0, 0, 0, 1, 0, 0, 0, 0, 0, 0, 0], [0, 0, 0, 0, 0, 1, 0, 0, 0, 0, 0, 0, 0], [0, 0, 0, 0, 0, 0, 0, 1, 0, 0, 0, 0, 0], [0, 0, 0, 1, 0, 0, 0, 0, 0, 0, 0, 0, 0], [0, 0, 0, 0, 0, 0, 0, 0, 0, 0, 0, 1, 0], [0, 1, 0, 0, 0, 0, 0, 0, 0, 0, 0, 0, 0], [0, 0, 0, 0, 0, 0, 0, 0, 0, 0, 1, 0, 0], [0, 0, 0, 0, 0, 0, 0, 0, 0, 0, 0, 0, 1], [0, 0, 0, 0, 0, 0, 0, 0, 0, 0, 0, 0, 1], [0, 0, 0, 0, 0, 0, 0, 0, 0, 0, 0, 0, 1], [0, 0, 0, 0, 0, 0, 0, 0, 0, 0, 0, 0, 1], [0, 0, 0, 0, 0, 0, 0, 0, 0, 0, 0, 0, 1], [0, 0, 0, 0, 0, 0, 0, 0, 0, 0, 0, 0, 1], [0, 0, 0, 0, 0, 0, 0, 0, 0, 0, 0, 0, 1], [0, 0, 0, 0, 0, 0, 0, 0, 0, 0, 0, 0, 1], [0, 0, 0, 0, 0, 0, 0, 0, 0, 0, 0, 0, 1], [0, 0, 0, 0, 0, 0, 0, 0, 0, 0, 0, 0, 1], [0, 0, 0, 0, 0, 0, 0, 0, 0, 0, 0, 0, 1], [0, 0, 0, 0, 0, 0, 0, 0, 0, 0, 0, 0, 1], [0, 0, 0, 0, 0, 0, 0, 0, 0, 0, 0, 0, 1], [0, 0, 0, 0, 0, 0, 0, 0, 0, 0, 0, 0, 1], [0, 0, 0, 0, 0, 0, 0, 0, 0, 0, 0, 0, 1], [0, 0, 0, 0, 0, 0, 0, 0, 0, 0, 0, 0, 1], [0, 0, 0, 0, 0, 0, 0, 0, 0, 0, 0, 0, 1], [0, 0, 0, 0, 0, 0, 0, 0, 0, 0, 0, 0, 1], [0, 0, 0, 0, 0, 0, 0, 0, 0, 0, 0, 0, 1], [0, 0, 0, 0, 0, 0, 0, 0, 0, 0, 0, 0, 1], [0, 0, 0, 0, 0, 0, 0, 0, 0, 0, 0, 0, 1], [0, 0, 0, 0, 0, 0, 0, 0, 0, 0, 0, 0, 1], [0, 0, 0, 0, 0, 0, 0, 0, 0, 0, 0, 0, 1], [0, 0, 0, 0, 0, 0, 0, 0, 0, 0, 0, 0, 1]]\n",
      "<class 'list'>\n"
     ]
    }
   ],
   "source": [
    "acetamenophen_onehot = selfies_dataset[0]\n",
    "label, one_hot = sf.selfies_to_encoding(acetamenophen, vocab_stoi, pad_to_len=max_len)\n",
    "print(label)\n",
    "print(one_hot)\n",
    "print(type(one_hot))"
   ]
  },
  {
   "cell_type": "code",
   "execution_count": 22,
   "id": "3e2e94ad",
   "metadata": {},
   "outputs": [
    {
     "data": {
      "text/plain": [
       "'[C][C][=Branch1][C][=O][N][C][=C][C][=C][Branch1][Branch1][C][=C][Ring1][=Branch1][O][nop][nop][nop][nop][nop][nop][nop][nop][nop][nop][nop][nop][nop][nop][nop][nop][nop][nop][nop][nop][nop][nop][nop][nop]'"
      ]
     },
     "execution_count": 22,
     "metadata": {},
     "output_type": "execute_result"
    }
   ],
   "source": [
    "acetamenophen_selfies = sf.encoding_to_selfies(one_hot, vocab_itos, enc_type='one_hot')\n",
    "acetamenophen_selfies"
   ]
  },
  {
   "cell_type": "code",
   "execution_count": 38,
   "id": "47c22d94",
   "metadata": {},
   "outputs": [
    {
     "ename": "KeyError",
     "evalue": "'[C@H]'",
     "output_type": "error",
     "traceback": [
      "\u001b[0;31m---------------------------------------------------------------------------\u001b[0m",
      "\u001b[0;31mKeyError\u001b[0m                                  Traceback (most recent call last)",
      "Input \u001b[0;32mIn [38]\u001b[0m, in \u001b[0;36m<cell line: 2>\u001b[0;34m()\u001b[0m\n\u001b[1;32m      1\u001b[0m vocab_stoi \u001b[38;5;241m=\u001b[39m {\u001b[38;5;124m'\u001b[39m\u001b[38;5;124m[#C]\u001b[39m\u001b[38;5;124m'\u001b[39m: \u001b[38;5;241m0\u001b[39m, \u001b[38;5;124m'\u001b[39m\u001b[38;5;124m[=Branch1]\u001b[39m\u001b[38;5;124m'\u001b[39m: \u001b[38;5;241m1\u001b[39m, \u001b[38;5;124m'\u001b[39m\u001b[38;5;124m[=Branch2]\u001b[39m\u001b[38;5;124m'\u001b[39m: \u001b[38;5;241m2\u001b[39m, \u001b[38;5;124m'\u001b[39m\u001b[38;5;124m[=C]\u001b[39m\u001b[38;5;124m'\u001b[39m: \u001b[38;5;241m3\u001b[39m, \u001b[38;5;124m'\u001b[39m\u001b[38;5;124m[=O]\u001b[39m\u001b[38;5;124m'\u001b[39m: \u001b[38;5;241m4\u001b[39m, \u001b[38;5;124m'\u001b[39m\u001b[38;5;124m[Branch1]\u001b[39m\u001b[38;5;124m'\u001b[39m: \u001b[38;5;241m5\u001b[39m, \u001b[38;5;124m'\u001b[39m\u001b[38;5;124m[C@H1]\u001b[39m\u001b[38;5;124m'\u001b[39m: \u001b[38;5;241m6\u001b[39m, \u001b[38;5;124m'\u001b[39m\u001b[38;5;124m[C]\u001b[39m\u001b[38;5;124m'\u001b[39m: \u001b[38;5;241m7\u001b[39m, \u001b[38;5;124m'\u001b[39m\u001b[38;5;124m[Cl]\u001b[39m\u001b[38;5;124m'\u001b[39m: \u001b[38;5;241m8\u001b[39m, \u001b[38;5;124m'\u001b[39m\u001b[38;5;124m[N]\u001b[39m\u001b[38;5;124m'\u001b[39m: \u001b[38;5;241m9\u001b[39m, \u001b[38;5;124m'\u001b[39m\u001b[38;5;124m[O]\u001b[39m\u001b[38;5;124m'\u001b[39m: \u001b[38;5;241m10\u001b[39m, \u001b[38;5;124m'\u001b[39m\u001b[38;5;124m[Ring1]\u001b[39m\u001b[38;5;124m'\u001b[39m: \u001b[38;5;241m11\u001b[39m, \u001b[38;5;124m'\u001b[39m\u001b[38;5;124m[nop]\u001b[39m\u001b[38;5;124m'\u001b[39m: \u001b[38;5;241m12\u001b[39m}\n\u001b[0;32m----> 2\u001b[0m dataset_onehot \u001b[38;5;241m=\u001b[39m \u001b[43msf\u001b[49m\u001b[38;5;241;43m.\u001b[39;49m\u001b[43mbatch_selfies_to_flat_hot\u001b[49m\u001b[43m(\u001b[49m\u001b[43mdataset\u001b[49m\u001b[43m,\u001b[49m\u001b[43m \u001b[49m\u001b[43mvocab_stoi\u001b[49m\u001b[43m)\u001b[49m\n",
      "File \u001b[0;32m~/anaconda3/envs/selfies/lib/python3.10/site-packages/selfies/utils/encoding_utils.py:143\u001b[0m, in \u001b[0;36mbatch_selfies_to_flat_hot\u001b[0;34m(selfies_batch, vocab_stoi, pad_to_len)\u001b[0m\n\u001b[1;32m    140\u001b[0m hot_list \u001b[38;5;241m=\u001b[39m \u001b[38;5;28mlist\u001b[39m()\n\u001b[1;32m    142\u001b[0m \u001b[38;5;28;01mfor\u001b[39;00m selfies \u001b[38;5;129;01min\u001b[39;00m selfies_batch:\n\u001b[0;32m--> 143\u001b[0m     one_hot \u001b[38;5;241m=\u001b[39m \u001b[43mselfies_to_encoding\u001b[49m\u001b[43m(\u001b[49m\u001b[43mselfies\u001b[49m\u001b[43m,\u001b[49m\u001b[43m \u001b[49m\u001b[43mvocab_stoi\u001b[49m\u001b[43m,\u001b[49m\u001b[43m \u001b[49m\u001b[43mpad_to_len\u001b[49m\u001b[43m,\u001b[49m\n\u001b[1;32m    144\u001b[0m \u001b[43m                                  \u001b[49m\u001b[43menc_type\u001b[49m\u001b[38;5;241;43m=\u001b[39;49m\u001b[38;5;124;43m\"\u001b[39;49m\u001b[38;5;124;43mone_hot\u001b[39;49m\u001b[38;5;124;43m\"\u001b[39;49m\u001b[43m)\u001b[49m\n\u001b[1;32m    145\u001b[0m     flattened \u001b[38;5;241m=\u001b[39m [elem \u001b[38;5;28;01mfor\u001b[39;00m vec \u001b[38;5;129;01min\u001b[39;00m one_hot \u001b[38;5;28;01mfor\u001b[39;00m elem \u001b[38;5;129;01min\u001b[39;00m vec]\n\u001b[1;32m    146\u001b[0m     hot_list\u001b[38;5;241m.\u001b[39mappend(flattened)\n",
      "File \u001b[0;32m~/anaconda3/envs/selfies/lib/python3.10/site-packages/selfies/utils/encoding_utils.py:51\u001b[0m, in \u001b[0;36mselfies_to_encoding\u001b[0;34m(selfies, vocab_stoi, pad_to_len, enc_type)\u001b[0m\n\u001b[1;32m     49\u001b[0m \u001b[38;5;66;03m# integer encode\u001b[39;00m\n\u001b[1;32m     50\u001b[0m char_list \u001b[38;5;241m=\u001b[39m split_selfies(selfies)\n\u001b[0;32m---> 51\u001b[0m integer_encoded \u001b[38;5;241m=\u001b[39m [vocab_stoi[char] \u001b[38;5;28;01mfor\u001b[39;00m char \u001b[38;5;129;01min\u001b[39;00m char_list]\n\u001b[1;32m     53\u001b[0m \u001b[38;5;28;01mif\u001b[39;00m enc_type \u001b[38;5;241m==\u001b[39m \u001b[38;5;124m\"\u001b[39m\u001b[38;5;124mlabel\u001b[39m\u001b[38;5;124m\"\u001b[39m:\n\u001b[1;32m     54\u001b[0m     \u001b[38;5;28;01mreturn\u001b[39;00m integer_encoded\n",
      "File \u001b[0;32m~/anaconda3/envs/selfies/lib/python3.10/site-packages/selfies/utils/encoding_utils.py:51\u001b[0m, in \u001b[0;36m<listcomp>\u001b[0;34m(.0)\u001b[0m\n\u001b[1;32m     49\u001b[0m \u001b[38;5;66;03m# integer encode\u001b[39;00m\n\u001b[1;32m     50\u001b[0m char_list \u001b[38;5;241m=\u001b[39m split_selfies(selfies)\n\u001b[0;32m---> 51\u001b[0m integer_encoded \u001b[38;5;241m=\u001b[39m [\u001b[43mvocab_stoi\u001b[49m\u001b[43m[\u001b[49m\u001b[43mchar\u001b[49m\u001b[43m]\u001b[49m \u001b[38;5;28;01mfor\u001b[39;00m char \u001b[38;5;129;01min\u001b[39;00m char_list]\n\u001b[1;32m     53\u001b[0m \u001b[38;5;28;01mif\u001b[39;00m enc_type \u001b[38;5;241m==\u001b[39m \u001b[38;5;124m\"\u001b[39m\u001b[38;5;124mlabel\u001b[39m\u001b[38;5;124m\"\u001b[39m:\n\u001b[1;32m     54\u001b[0m     \u001b[38;5;28;01mreturn\u001b[39;00m integer_encoded\n",
      "\u001b[0;31mKeyError\u001b[0m: '[C@H]'"
     ]
    }
   ],
   "source": [
    "vocab_stoi = {'[#C]': 0, '[=Branch1]': 1, '[=Branch2]': 2, '[=C]': 3, '[=O]': 4, '[Branch1]': 5, '[C@H1]': 6, '[C]': 7, '[Cl]': 8, '[N]': 9, '[O]': 10, '[Ring1]': 11, '[nop]': 12}\n",
    "dataset_onehot = sf.batch_selfies_to_flat_hot(dataset, vocab_stoi)"
   ]
  },
  {
   "cell_type": "code",
   "execution_count": null,
   "id": "3ec9d6c5",
   "metadata": {},
   "outputs": [],
   "source": []
  }
 ],
 "metadata": {
  "kernelspec": {
   "display_name": "Python 3 (ipykernel)",
   "language": "python",
   "name": "python3"
  },
  "language_info": {
   "codemirror_mode": {
    "name": "ipython",
    "version": 3
   },
   "file_extension": ".py",
   "mimetype": "text/x-python",
   "name": "python",
   "nbconvert_exporter": "python",
   "pygments_lexer": "ipython3",
   "version": "3.10.5"
  }
 },
 "nbformat": 4,
 "nbformat_minor": 5
}
